{
 "cells": [
  {
   "cell_type": "markdown",
   "id": "630277d4",
   "metadata": {},
   "source": [
    "**Installing Libaries**"
   ]
  },
  {
   "cell_type": "code",
   "execution_count": null,
   "id": "b190e297",
   "metadata": {},
   "outputs": [],
   "source": [
    "install.packages(\"keras\")\n",
    "install.packages(\"tensorflow\")\n",
    "install.packages(\"mlbench\")\n",
    "install.packages(\"magrittr\")\n",
    "install.packages(\"dplyr\")\n",
    "install.packages(\"neuralnet\")\n",
    "\n",
    "library(reticulate)\n",
    "library(keras)\n",
    "library(tensorflow)\n",
    "library(mlbench)\n",
    "library(dplyr)\n",
    "library(magrittr)\n",
    "library(neuralnet)\n",
    "library(here)\n",
    "\n",
    "reticulate::conda_install(packages = \"graphviz\")\n",
    "reticulate::py_install(\"pydot\", pip = TRUE)\n",
    "prev_model = load_model_tf(filepath = here(\"model_out\"))"
   ]
  },
  {
   "cell_type": "markdown",
   "id": "7ca6b95a",
   "metadata": {},
   "source": [
    "**Importing Data and Setting Up Traning Datatset**"
   ]
  },
  {
   "cell_type": "code",
   "execution_count": 2,
   "id": "07b26b95",
   "metadata": {},
   "outputs": [
    {
     "data": {
      "text/html": [
       "<style>\n",
       ".list-inline {list-style: none; margin:0; padding: 0}\n",
       ".list-inline>li {display: inline-block}\n",
       ".list-inline>li:not(:last-child)::after {content: \"\\00b7\"; padding: 0 .5ex}\n",
       "</style>\n",
       "<ol class=list-inline><li>'OPEID'</li><li>'name'</li><li>'city'</li><li>'state'</li><li>'region'</li><li>'median_debt'</li><li>'default_rate'</li><li>'highest_degree'</li><li>'ownership'</li><li>'locale'</li><li>'hbcu'</li><li>'admit_rate'</li><li>'SAT_avg'</li><li>'online_only'</li><li>'enrollment'</li><li>'net_price'</li><li>'avg_cost'</li><li>'net_tuition'</li><li>'ed_spending_per_student'</li><li>'avg_faculty_salary'</li><li>'pct_PELL'</li><li>'pct_fed_loan'</li><li>'grad_rate'</li><li>'pct_firstgen'</li><li>'med_fam_income'</li><li>'med_alum_earnings'</li></ol>\n"
      ],
      "text/latex": [
       "\\begin{enumerate*}\n",
       "\\item 'OPEID'\n",
       "\\item 'name'\n",
       "\\item 'city'\n",
       "\\item 'state'\n",
       "\\item 'region'\n",
       "\\item 'median\\_debt'\n",
       "\\item 'default\\_rate'\n",
       "\\item 'highest\\_degree'\n",
       "\\item 'ownership'\n",
       "\\item 'locale'\n",
       "\\item 'hbcu'\n",
       "\\item 'admit\\_rate'\n",
       "\\item 'SAT\\_avg'\n",
       "\\item 'online\\_only'\n",
       "\\item 'enrollment'\n",
       "\\item 'net\\_price'\n",
       "\\item 'avg\\_cost'\n",
       "\\item 'net\\_tuition'\n",
       "\\item 'ed\\_spending\\_per\\_student'\n",
       "\\item 'avg\\_faculty\\_salary'\n",
       "\\item 'pct\\_PELL'\n",
       "\\item 'pct\\_fed\\_loan'\n",
       "\\item 'grad\\_rate'\n",
       "\\item 'pct\\_firstgen'\n",
       "\\item 'med\\_fam\\_income'\n",
       "\\item 'med\\_alum\\_earnings'\n",
       "\\end{enumerate*}\n"
      ],
      "text/markdown": [
       "1. 'OPEID'\n",
       "2. 'name'\n",
       "3. 'city'\n",
       "4. 'state'\n",
       "5. 'region'\n",
       "6. 'median_debt'\n",
       "7. 'default_rate'\n",
       "8. 'highest_degree'\n",
       "9. 'ownership'\n",
       "10. 'locale'\n",
       "11. 'hbcu'\n",
       "12. 'admit_rate'\n",
       "13. 'SAT_avg'\n",
       "14. 'online_only'\n",
       "15. 'enrollment'\n",
       "16. 'net_price'\n",
       "17. 'avg_cost'\n",
       "18. 'net_tuition'\n",
       "19. 'ed_spending_per_student'\n",
       "20. 'avg_faculty_salary'\n",
       "21. 'pct_PELL'\n",
       "22. 'pct_fed_loan'\n",
       "23. 'grad_rate'\n",
       "24. 'pct_firstgen'\n",
       "25. 'med_fam_income'\n",
       "26. 'med_alum_earnings'\n",
       "\n",
       "\n"
      ],
      "text/plain": [
       " [1] \"OPEID\"                   \"name\"                   \n",
       " [3] \"city\"                    \"state\"                  \n",
       " [5] \"region\"                  \"median_debt\"            \n",
       " [7] \"default_rate\"            \"highest_degree\"         \n",
       " [9] \"ownership\"               \"locale\"                 \n",
       "[11] \"hbcu\"                    \"admit_rate\"             \n",
       "[13] \"SAT_avg\"                 \"online_only\"            \n",
       "[15] \"enrollment\"              \"net_price\"              \n",
       "[17] \"avg_cost\"                \"net_tuition\"            \n",
       "[19] \"ed_spending_per_student\" \"avg_faculty_salary\"     \n",
       "[21] \"pct_PELL\"                \"pct_fed_loan\"           \n",
       "[23] \"grad_rate\"               \"pct_firstgen\"           \n",
       "[25] \"med_fam_income\"          \"med_alum_earnings\"      "
      ]
     },
     "metadata": {},
     "output_type": "display_data"
    },
    {
     "data": {
      "text/html": [
       "<table class=\"dataframe\">\n",
       "<caption>A data.frame: 6 × 26</caption>\n",
       "<thead>\n",
       "\t<tr><th></th><th scope=col>OPEID</th><th scope=col>name</th><th scope=col>city</th><th scope=col>state</th><th scope=col>region</th><th scope=col>median_debt</th><th scope=col>default_rate</th><th scope=col>highest_degree</th><th scope=col>ownership</th><th scope=col>locale</th><th scope=col>⋯</th><th scope=col>avg_cost</th><th scope=col>net_tuition</th><th scope=col>ed_spending_per_student</th><th scope=col>avg_faculty_salary</th><th scope=col>pct_PELL</th><th scope=col>pct_fed_loan</th><th scope=col>grad_rate</th><th scope=col>pct_firstgen</th><th scope=col>med_fam_income</th><th scope=col>med_alum_earnings</th></tr>\n",
       "\t<tr><th></th><th scope=col>&lt;int&gt;</th><th scope=col>&lt;chr&gt;</th><th scope=col>&lt;chr&gt;</th><th scope=col>&lt;chr&gt;</th><th scope=col>&lt;chr&gt;</th><th scope=col>&lt;dbl&gt;</th><th scope=col>&lt;dbl&gt;</th><th scope=col>&lt;chr&gt;</th><th scope=col>&lt;chr&gt;</th><th scope=col>&lt;chr&gt;</th><th scope=col>⋯</th><th scope=col>&lt;dbl&gt;</th><th scope=col>&lt;dbl&gt;</th><th scope=col>&lt;dbl&gt;</th><th scope=col>&lt;dbl&gt;</th><th scope=col>&lt;dbl&gt;</th><th scope=col>&lt;dbl&gt;</th><th scope=col>&lt;dbl&gt;</th><th scope=col>&lt;dbl&gt;</th><th scope=col>&lt;dbl&gt;</th><th scope=col>&lt;dbl&gt;</th></tr>\n",
       "</thead>\n",
       "<tbody>\n",
       "\t<tr><th scope=row>415</th><td>231400</td><td>Saginaw Valley State University</td><td>University Center</td><td>MI</td><td>Midwest  </td><td>18.127</td><td>4.8</td><td>Graduate </td><td>Public           </td><td>Suburb    </td><td>⋯</td><td>22.353</td><td> 9.517</td><td> 7.700</td><td> 8.429</td><td>34.60</td><td>57.38</td><td>47.88</td><td>32.86713</td><td> 52.6705</td><td>46.231</td></tr>\n",
       "\t<tr><th scope=row>463</th><td>908900</td><td>Hannibal-LaGrange University   </td><td>Hannibal         </td><td>MO</td><td>Midwest  </td><td>14.968</td><td>6.9</td><td>Graduate </td><td>Private nonprofit</td><td>Town      </td><td>⋯</td><td>36.128</td><td> 9.161</td><td> 5.349</td><td> 4.989</td><td>31.81</td><td>47.92</td><td>42.94</td><td>45.74899</td><td> 39.8815</td><td>37.541</td></tr>\n",
       "\t<tr><th scope=row>179</th><td>160400</td><td>Young Harris College           </td><td>Young Harris     </td><td>GA</td><td>South    </td><td>12.000</td><td>3.5</td><td>Graduate </td><td>Private nonprofit</td><td>Rural     </td><td>⋯</td><td>44.203</td><td> 8.388</td><td> 8.125</td><td> 5.558</td><td>22.82</td><td>39.73</td><td>43.75</td><td>28.20000</td><td> 55.7020</td><td>40.544</td></tr>\n",
       "\t<tr><th scope=row>526</th><td>264200</td><td>The College of New Jersey      </td><td>Ewing            </td><td>NJ</td><td>Northeast</td><td>21.000</td><td>1.3</td><td>Graduate </td><td>Public           </td><td>Suburb    </td><td>⋯</td><td>35.502</td><td>12.917</td><td>10.556</td><td>10.903</td><td>17.78</td><td>50.77</td><td>86.46</td><td>20.52257</td><td>106.3900</td><td>65.481</td></tr>\n",
       "\t<tr><th scope=row>195</th><td>169400</td><td>Chicago State University       </td><td>Chicago          </td><td>IL</td><td>Midwest  </td><td>22.000</td><td>8.7</td><td>Graduate </td><td>Public           </td><td>Large City</td><td>⋯</td><td>21.867</td><td> 7.087</td><td>20.865</td><td> 8.118</td><td>61.72</td><td>80.55</td><td>16.21</td><td>42.02454</td><td> 15.1340</td><td>40.534</td></tr>\n",
       "\t<tr><th scope=row>938</th><td>370200</td><td>Averett University             </td><td>Danville         </td><td>VA</td><td>South    </td><td>17.149</td><td>5.3</td><td>Bachelors</td><td>Private nonprofit</td><td>Town      </td><td>⋯</td><td>47.321</td><td>16.153</td><td>10.776</td><td> 6.022</td><td>46.31</td><td>75.39</td><td>50.23</td><td>37.55102</td><td> 40.1490</td><td>45.467</td></tr>\n",
       "</tbody>\n",
       "</table>\n"
      ],
      "text/latex": [
       "A data.frame: 6 × 26\n",
       "\\begin{tabular}{r|lllllllllllllllllllll}\n",
       "  & OPEID & name & city & state & region & median\\_debt & default\\_rate & highest\\_degree & ownership & locale & ⋯ & avg\\_cost & net\\_tuition & ed\\_spending\\_per\\_student & avg\\_faculty\\_salary & pct\\_PELL & pct\\_fed\\_loan & grad\\_rate & pct\\_firstgen & med\\_fam\\_income & med\\_alum\\_earnings\\\\\n",
       "  & <int> & <chr> & <chr> & <chr> & <chr> & <dbl> & <dbl> & <chr> & <chr> & <chr> & ⋯ & <dbl> & <dbl> & <dbl> & <dbl> & <dbl> & <dbl> & <dbl> & <dbl> & <dbl> & <dbl>\\\\\n",
       "\\hline\n",
       "\t415 & 231400 & Saginaw Valley State University & University Center & MI & Midwest   & 18.127 & 4.8 & Graduate  & Public            & Suburb     & ⋯ & 22.353 &  9.517 &  7.700 &  8.429 & 34.60 & 57.38 & 47.88 & 32.86713 &  52.6705 & 46.231\\\\\n",
       "\t463 & 908900 & Hannibal-LaGrange University    & Hannibal          & MO & Midwest   & 14.968 & 6.9 & Graduate  & Private nonprofit & Town       & ⋯ & 36.128 &  9.161 &  5.349 &  4.989 & 31.81 & 47.92 & 42.94 & 45.74899 &  39.8815 & 37.541\\\\\n",
       "\t179 & 160400 & Young Harris College            & Young Harris      & GA & South     & 12.000 & 3.5 & Graduate  & Private nonprofit & Rural      & ⋯ & 44.203 &  8.388 &  8.125 &  5.558 & 22.82 & 39.73 & 43.75 & 28.20000 &  55.7020 & 40.544\\\\\n",
       "\t526 & 264200 & The College of New Jersey       & Ewing             & NJ & Northeast & 21.000 & 1.3 & Graduate  & Public            & Suburb     & ⋯ & 35.502 & 12.917 & 10.556 & 10.903 & 17.78 & 50.77 & 86.46 & 20.52257 & 106.3900 & 65.481\\\\\n",
       "\t195 & 169400 & Chicago State University        & Chicago           & IL & Midwest   & 22.000 & 8.7 & Graduate  & Public            & Large City & ⋯ & 21.867 &  7.087 & 20.865 &  8.118 & 61.72 & 80.55 & 16.21 & 42.02454 &  15.1340 & 40.534\\\\\n",
       "\t938 & 370200 & Averett University              & Danville          & VA & South     & 17.149 & 5.3 & Bachelors & Private nonprofit & Town       & ⋯ & 47.321 & 16.153 & 10.776 &  6.022 & 46.31 & 75.39 & 50.23 & 37.55102 &  40.1490 & 45.467\\\\\n",
       "\\end{tabular}\n"
      ],
      "text/markdown": [
       "\n",
       "A data.frame: 6 × 26\n",
       "\n",
       "| <!--/--> | OPEID &lt;int&gt; | name &lt;chr&gt; | city &lt;chr&gt; | state &lt;chr&gt; | region &lt;chr&gt; | median_debt &lt;dbl&gt; | default_rate &lt;dbl&gt; | highest_degree &lt;chr&gt; | ownership &lt;chr&gt; | locale &lt;chr&gt; | ⋯ ⋯ | avg_cost &lt;dbl&gt; | net_tuition &lt;dbl&gt; | ed_spending_per_student &lt;dbl&gt; | avg_faculty_salary &lt;dbl&gt; | pct_PELL &lt;dbl&gt; | pct_fed_loan &lt;dbl&gt; | grad_rate &lt;dbl&gt; | pct_firstgen &lt;dbl&gt; | med_fam_income &lt;dbl&gt; | med_alum_earnings &lt;dbl&gt; |\n",
       "|---|---|---|---|---|---|---|---|---|---|---|---|---|---|---|---|---|---|---|---|---|---|\n",
       "| 415 | 231400 | Saginaw Valley State University | University Center | MI | Midwest   | 18.127 | 4.8 | Graduate  | Public            | Suburb     | ⋯ | 22.353 |  9.517 |  7.700 |  8.429 | 34.60 | 57.38 | 47.88 | 32.86713 |  52.6705 | 46.231 |\n",
       "| 463 | 908900 | Hannibal-LaGrange University    | Hannibal          | MO | Midwest   | 14.968 | 6.9 | Graduate  | Private nonprofit | Town       | ⋯ | 36.128 |  9.161 |  5.349 |  4.989 | 31.81 | 47.92 | 42.94 | 45.74899 |  39.8815 | 37.541 |\n",
       "| 179 | 160400 | Young Harris College            | Young Harris      | GA | South     | 12.000 | 3.5 | Graduate  | Private nonprofit | Rural      | ⋯ | 44.203 |  8.388 |  8.125 |  5.558 | 22.82 | 39.73 | 43.75 | 28.20000 |  55.7020 | 40.544 |\n",
       "| 526 | 264200 | The College of New Jersey       | Ewing             | NJ | Northeast | 21.000 | 1.3 | Graduate  | Public            | Suburb     | ⋯ | 35.502 | 12.917 | 10.556 | 10.903 | 17.78 | 50.77 | 86.46 | 20.52257 | 106.3900 | 65.481 |\n",
       "| 195 | 169400 | Chicago State University        | Chicago           | IL | Midwest   | 22.000 | 8.7 | Graduate  | Public            | Large City | ⋯ | 21.867 |  7.087 | 20.865 |  8.118 | 61.72 | 80.55 | 16.21 | 42.02454 |  15.1340 | 40.534 |\n",
       "| 938 | 370200 | Averett University              | Danville          | VA | South     | 17.149 | 5.3 | Bachelors | Private nonprofit | Town       | ⋯ | 47.321 | 16.153 | 10.776 |  6.022 | 46.31 | 75.39 | 50.23 | 37.55102 |  40.1490 | 45.467 |\n",
       "\n"
      ],
      "text/plain": [
       "    OPEID  name                            city              state region   \n",
       "415 231400 Saginaw Valley State University University Center MI    Midwest  \n",
       "463 908900 Hannibal-LaGrange University    Hannibal          MO    Midwest  \n",
       "179 160400 Young Harris College            Young Harris      GA    South    \n",
       "526 264200 The College of New Jersey       Ewing             NJ    Northeast\n",
       "195 169400 Chicago State University        Chicago           IL    Midwest  \n",
       "938 370200 Averett University              Danville          VA    South    \n",
       "    median_debt default_rate highest_degree ownership         locale     ⋯\n",
       "415 18.127      4.8          Graduate       Public            Suburb     ⋯\n",
       "463 14.968      6.9          Graduate       Private nonprofit Town       ⋯\n",
       "179 12.000      3.5          Graduate       Private nonprofit Rural      ⋯\n",
       "526 21.000      1.3          Graduate       Public            Suburb     ⋯\n",
       "195 22.000      8.7          Graduate       Public            Large City ⋯\n",
       "938 17.149      5.3          Bachelors      Private nonprofit Town       ⋯\n",
       "    avg_cost net_tuition ed_spending_per_student avg_faculty_salary pct_PELL\n",
       "415 22.353    9.517       7.700                   8.429             34.60   \n",
       "463 36.128    9.161       5.349                   4.989             31.81   \n",
       "179 44.203    8.388       8.125                   5.558             22.82   \n",
       "526 35.502   12.917      10.556                  10.903             17.78   \n",
       "195 21.867    7.087      20.865                   8.118             61.72   \n",
       "938 47.321   16.153      10.776                   6.022             46.31   \n",
       "    pct_fed_loan grad_rate pct_firstgen med_fam_income med_alum_earnings\n",
       "415 57.38        47.88     32.86713      52.6705       46.231           \n",
       "463 47.92        42.94     45.74899      39.8815       37.541           \n",
       "179 39.73        43.75     28.20000      55.7020       40.544           \n",
       "526 50.77        86.46     20.52257     106.3900       65.481           \n",
       "195 80.55        16.21     42.02454      15.1340       40.534           \n",
       "938 75.39        50.23     37.55102      40.1490       45.467           "
      ]
     },
     "metadata": {},
     "output_type": "display_data"
    }
   ],
   "source": [
    "dat <- read.csv('https://skewthescript.org/s/four_year_colleges.csv')\n",
    "colnames(dat)\n",
    "\n",
    "# set training data to be 80% of all colleges\n",
    "train_size <- floor(0.8 * nrow(dat))\n",
    "\n",
    "## sample row indeces\n",
    "set.seed(123)\n",
    "train_ind <- sample(seq_len(nrow(dat)), size = train_size)\n",
    "\n",
    "train <- dat[train_ind, ]\n",
    "test <- dat[-train_ind, ]\n",
    "head(train)"
   ]
  },
  {
   "cell_type": "code",
   "execution_count": 3,
   "id": "0bb25784",
   "metadata": {},
   "outputs": [],
   "source": [
    "dat <- train\n",
    "dat_test <- test"
   ]
  },
  {
   "cell_type": "markdown",
   "id": "e1bf57ab",
   "metadata": {},
   "source": [
    "**Pre-processing**"
   ]
  },
  {
   "cell_type": "code",
   "execution_count": 4,
   "id": "8a04f6d6",
   "metadata": {},
   "outputs": [],
   "source": [
    "chr_cols <- c(colnames(dat[,sapply(dat,is.character)]))[0:-2] #gets all columns with datatype \"character\", excludes \"name\" and \"city\" columns\n",
    "\n",
    "#For traning datatset\n",
    "for (i in chr_cols){\n",
    "    chr_dat <- dat[i]\n",
    "    chr_dat <- chr_dat %>% group_by_at(i) %>% mutate(id=cur_group_id())\n",
    "    dat[paste(i,\"_id\", sep = \"\")] <- chr_dat[\"id\"]\n",
    "}\n",
    "\n",
    "#For test \n",
    "for (i in chr_cols){\n",
    "    chr_test <- dat_test[i]\n",
    "    chr_test <- chr_test %>% group_by_at(i) %>% mutate(id=cur_group_id())\n",
    "    dat_test[paste(i,\"_id\", sep = \"\")] <- chr_test[\"id\"]\n",
    "}"
   ]
  },
  {
   "cell_type": "code",
   "execution_count": 5,
   "id": "f8144564",
   "metadata": {},
   "outputs": [
    {
     "name": "stdout",
     "output_type": "stream",
     "text": [
      "[1] \"Training:\"\n",
      "'data.frame':\t842 obs. of  33 variables:\n",
      " $ OPEID                  : int  231400 908900 160400 264200 169400 370200 3070900 301400 679100 1026600 ...\n",
      " $ name                   : chr  \"Saginaw Valley State University\" \"Hannibal-LaGrange University\" \"Young Harris College\" \"The College of New Jersey\" ...\n",
      " $ city                   : chr  \"University Center\" \"Hannibal\" \"Young Harris\" \"Ewing\" ...\n",
      " $ state                  : chr  \"MI\" \"MO\" \"GA\" \"NJ\" ...\n",
      " $ region                 : chr  \"Midwest\" \"Midwest\" \"South\" \"Northeast\" ...\n",
      " $ median_debt            : num  18.1 15 12 21 22 ...\n",
      " $ default_rate           : num  4.8 6.9 3.5 1.3 8.7 5.3 2 3.8 7.2 13.7 ...\n",
      " $ highest_degree         : chr  \"Graduate\" \"Graduate\" \"Graduate\" \"Graduate\" ...\n",
      " $ ownership              : chr  \"Public\" \"Private nonprofit\" \"Private nonprofit\" \"Public\" ...\n",
      " $ locale                 : chr  \"Suburb\" \"Town\" \"Rural\" \"Suburb\" ...\n",
      " $ hbcu                   : chr  \"No\" \"No\" \"No\" \"No\" ...\n",
      " $ admit_rate             : num  89.5 64.6 65 51.2 46.4 ...\n",
      " $ SAT_avg                : int  1086 1120 1065 1240 887 984 1120 1176 1213 1057 ...\n",
      " $ online_only            : chr  \"No\" \"No\" \"No\" \"No\" ...\n",
      " $ enrollment             : int  6953 559 923 7039 1683 881 193 2843 3528 282 ...\n",
      " $ net_price              : num  14.3 20.9 20.8 28.2 12.7 ...\n",
      " $ avg_cost               : num  22.4 36.1 44.2 35.5 21.9 ...\n",
      " $ net_tuition            : num  9.52 9.16 8.39 12.92 7.09 ...\n",
      " $ ed_spending_per_student: num  7.7 5.35 8.12 10.56 20.86 ...\n",
      " $ avg_faculty_salary     : num  8.43 4.99 5.56 10.9 8.12 ...\n",
      " $ pct_PELL               : num  34.6 31.8 22.8 17.8 61.7 ...\n",
      " $ pct_fed_loan           : num  57.4 47.9 39.7 50.8 80.5 ...\n",
      " $ grad_rate              : num  47.9 42.9 43.8 86.5 16.2 ...\n",
      " $ pct_firstgen           : num  32.9 45.7 28.2 20.5 42 ...\n",
      " $ med_fam_income         : num  52.7 39.9 55.7 106.4 15.1 ...\n",
      " $ med_alum_earnings      : num  46.2 37.5 40.5 65.5 40.5 ...\n",
      " $ state_id               : int  23 25 11 32 15 47 25 36 35 37 ...\n",
      " $ region_id              : int  2 2 5 3 2 5 2 2 3 4 ...\n",
      " $ highest_degree_id      : int  2 2 2 2 2 1 1 2 2 2 ...\n",
      " $ ownership_id           : int  3 2 2 3 3 2 2 2 3 2 ...\n",
      " $ locale_id              : int  4 5 2 4 1 5 3 4 4 4 ...\n",
      " $ hbcu_id                : int  1 1 1 1 1 1 1 1 1 1 ...\n",
      " $ online_only_id         : int  1 1 1 1 1 1 1 1 1 1 ...\n",
      "[1] \"Test:\"\n",
      "'data.frame':\t211 obs. of  33 variables:\n",
      " $ OPEID                  : int  100200 105500 100900 102400 103600 105700 147902 110800 108600 109700 ...\n",
      " $ name                   : chr  \"Alabama A & M University\" \"University of Alabama in Huntsville\" \"Auburn University\" \"University of West Alabama\" ...\n",
      " $ city                   : chr  \"Normal\" \"Huntsville\" \"Auburn\" \"Livingston\" ...\n",
      " $ state                  : chr  \"AL\" \"AL\" \"AL\" \"AL\" ...\n",
      " $ region                 : chr  \"South\" \"South\" \"South\" \"South\" ...\n",
      " $ median_debt            : num  15.2 14 17.5 12.5 15.9 ...\n",
      " $ default_rate           : num  12.1 4.7 2.6 5.8 2 6.3 4.1 4.1 13.6 3.1 ...\n",
      " $ highest_degree         : chr  \"Graduate\" \"Graduate\" \"Graduate\" \"Graduate\" ...\n",
      " $ ownership              : chr  \"Public\" \"Public\" \"Public\" \"Public\" ...\n",
      " $ locale                 : chr  \"Small City\" \"Small City\" \"Small City\" \"Rural\" ...\n",
      " $ hbcu                   : chr  \"Yes\" \"No\" \"No\" \"No\" ...\n",
      " $ admit_rate             : num  89.7 77.1 85.1 93.1 84 ...\n",
      " $ SAT_avg                : int  959 1300 1302 1035 1219 1162 1238 1236 900 1207 ...\n",
      " $ online_only            : chr  \"No\" \"No\" \"No\" \"No\" ...\n",
      " $ enrollment             : int  5090 7825 24368 2247 3573 8787 2959 22624 2440 3492 ...\n",
      " $ net_price              : num  15.5 17.2 24 16.7 30.1 ...\n",
      " $ avg_cost               : num  23.4 24.9 32.2 22.6 49.6 ...\n",
      " $ net_tuition            : num  8.1 8.28 16.86 8.29 20.06 ...\n",
      " $ ed_spending_per_student: num  4.84 8.32 8.36 6.69 15.37 ...\n",
      " $ avg_faculty_salary     : num  7.6 9.7 10.72 6.55 9.01 ...\n",
      " $ pct_PELL               : num  71 24 13.4 53.5 11.4 ...\n",
      " $ pct_fed_loan           : num  75 38.5 29.8 67.3 30.8 ...\n",
      " $ grad_rate              : num  28.7 57.1 78.7 40.1 77.2 ...\n",
      " $ pct_firstgen           : num  36.6 31 17.3 40.3 13.8 ...\n",
      " $ med_fam_income         : num  23.6 44.8 72 25.6 87.7 ...\n",
      " $ med_alum_earnings      : num  36.3 54.4 56.9 35.8 53.2 ...\n",
      " $ state_id               : int  1 1 1 1 1 1 3 2 2 2 ...\n",
      " $ region_id              : int  5 5 5 5 5 5 4 5 5 5 ...\n",
      " $ highest_degree_id      : int  2 2 2 2 2 2 2 2 2 2 ...\n",
      " $ ownership_id           : int  2 2 2 2 1 2 1 2 2 1 ...\n",
      " $ locale_id              : int  3 3 3 2 4 3 2 3 3 5 ...\n",
      " $ hbcu_id                : int  2 1 1 1 1 1 1 1 2 1 ...\n",
      " $ online_only_id         : int  1 1 1 1 1 1 1 1 1 1 ...\n"
     ]
    }
   ],
   "source": [
    "print('Training:')\n",
    "str(dat)\n",
    "print('Test:')\n",
    "str(dat_test)"
   ]
  },
  {
   "cell_type": "markdown",
   "id": "e348ca2b",
   "metadata": {},
   "source": [
    "**Set Up Traning Dataset (part 2)**"
   ]
  },
  {
   "cell_type": "code",
   "execution_count": 6,
   "id": "019b3789",
   "metadata": {
    "scrolled": true
   },
   "outputs": [
    {
     "data": {
      "text/html": [
       "<style>\n",
       ".list-inline {list-style: none; margin:0; padding: 0}\n",
       ".list-inline>li {display: inline-block}\n",
       ".list-inline>li:not(:last-child)::after {content: \"\\00b7\"; padding: 0 .5ex}\n",
       "</style>\n",
       "<ol class=list-inline><li>'median_debt'</li><li>'admit_rate'</li><li>'SAT_avg'</li><li>'enrollment'</li><li>'net_price'</li><li>'avg_cost'</li><li>'net_tuition'</li><li>'ed_spending_per_student'</li><li>'avg_faculty_salary'</li><li>'pct_PELL'</li><li>'pct_fed_loan'</li><li>'grad_rate'</li><li>'pct_firstgen'</li><li>'med_fam_income'</li><li>'med_alum_earnings'</li><li>'state_id'</li><li>'region_id'</li><li>'highest_degree_id'</li><li>'ownership_id'</li><li>'locale_id'</li><li>'hbcu_id'</li></ol>\n"
      ],
      "text/latex": [
       "\\begin{enumerate*}\n",
       "\\item 'median\\_debt'\n",
       "\\item 'admit\\_rate'\n",
       "\\item 'SAT\\_avg'\n",
       "\\item 'enrollment'\n",
       "\\item 'net\\_price'\n",
       "\\item 'avg\\_cost'\n",
       "\\item 'net\\_tuition'\n",
       "\\item 'ed\\_spending\\_per\\_student'\n",
       "\\item 'avg\\_faculty\\_salary'\n",
       "\\item 'pct\\_PELL'\n",
       "\\item 'pct\\_fed\\_loan'\n",
       "\\item 'grad\\_rate'\n",
       "\\item 'pct\\_firstgen'\n",
       "\\item 'med\\_fam\\_income'\n",
       "\\item 'med\\_alum\\_earnings'\n",
       "\\item 'state\\_id'\n",
       "\\item 'region\\_id'\n",
       "\\item 'highest\\_degree\\_id'\n",
       "\\item 'ownership\\_id'\n",
       "\\item 'locale\\_id'\n",
       "\\item 'hbcu\\_id'\n",
       "\\end{enumerate*}\n"
      ],
      "text/markdown": [
       "1. 'median_debt'\n",
       "2. 'admit_rate'\n",
       "3. 'SAT_avg'\n",
       "4. 'enrollment'\n",
       "5. 'net_price'\n",
       "6. 'avg_cost'\n",
       "7. 'net_tuition'\n",
       "8. 'ed_spending_per_student'\n",
       "9. 'avg_faculty_salary'\n",
       "10. 'pct_PELL'\n",
       "11. 'pct_fed_loan'\n",
       "12. 'grad_rate'\n",
       "13. 'pct_firstgen'\n",
       "14. 'med_fam_income'\n",
       "15. 'med_alum_earnings'\n",
       "16. 'state_id'\n",
       "17. 'region_id'\n",
       "18. 'highest_degree_id'\n",
       "19. 'ownership_id'\n",
       "20. 'locale_id'\n",
       "21. 'hbcu_id'\n",
       "\n",
       "\n"
      ],
      "text/plain": [
       " [1] \"median_debt\"             \"admit_rate\"             \n",
       " [3] \"SAT_avg\"                 \"enrollment\"             \n",
       " [5] \"net_price\"               \"avg_cost\"               \n",
       " [7] \"net_tuition\"             \"ed_spending_per_student\"\n",
       " [9] \"avg_faculty_salary\"      \"pct_PELL\"               \n",
       "[11] \"pct_fed_loan\"            \"grad_rate\"              \n",
       "[13] \"pct_firstgen\"            \"med_fam_income\"         \n",
       "[15] \"med_alum_earnings\"       \"state_id\"               \n",
       "[17] \"region_id\"               \"highest_degree_id\"      \n",
       "[19] \"ownership_id\"            \"locale_id\"              \n",
       "[21] \"hbcu_id\"                "
      ]
     },
     "metadata": {},
     "output_type": "display_data"
    }
   ],
   "source": [
    "cols <- colnames(dat[,sapply(dat,is.numeric)]) #selects all columns with numeric data\n",
    "cols <- c(cols[c(-1, -3, -length(cols))]) #excludes OPEID (index 1), default_rate(index 3), and online_only_id (index = length(cols)). \n",
    "                                          #These are all the response variable columns\n",
    "cols"
   ]
  },
  {
   "cell_type": "code",
   "execution_count": 7,
   "id": "ed42acf8",
   "metadata": {},
   "outputs": [],
   "source": [
    "training <- dat[, cols] #store as traning for all rows where 1 was picked, 70% of dat\n",
    "test <- dat_test[, cols] #store as test for all rows where 2 was picked, 30% of dat\n",
    "trainingtarget <- dat[, \"default_rate\"] #gets \"answers\" for test and train sets\n",
    "testtarget <- dat_test[, \"default_rate\"]\n",
    "\n",
    "#convert data into matrices\n",
    "training <- as.matrix(training)\n",
    "dimnames(training) <- NULL\n",
    "test <- as.matrix(test)\n",
    "dimnames(test) <- NULL\n",
    "trainingtarget <- as.matrix(trainingtarget)\n",
    "dimnames(trainingtarget) <- NULL\n",
    "testtarget <- as.matrix(testtarget)\n",
    "dimnames(testtarget) <- NULL"
   ]
  },
  {
   "cell_type": "markdown",
   "id": "410b49fc",
   "metadata": {},
   "source": [
    "**Normalizing Data**"
   ]
  },
  {
   "cell_type": "code",
   "execution_count": 8,
   "id": "9db697f8",
   "metadata": {},
   "outputs": [
    {
     "data": {
      "text/plain": [
       "       V1                 V2                V3                V4          \n",
       " Min.   :-3.30717   Min.   :-3.3179   Min.   :-2.3270   Min.   :-0.70835  \n",
       " 1st Qu.:-0.66040   1st Qu.:-0.4901   1st Qu.:-0.6597   1st Qu.:-0.57209  \n",
       " Median :-0.04799   Median : 0.2001   Median :-0.1783   Median :-0.41927  \n",
       " Mean   : 0.00000   Mean   : 0.0000   Mean   : 0.0000   Mean   : 0.00000  \n",
       " 3rd Qu.: 0.75127   3rd Qu.: 0.6883   3rd Qu.: 0.4909   3rd Qu.: 0.08554  \n",
       " Max.   : 2.67628   Max.   : 1.5206   Max.   : 3.2148   Max.   : 6.76383  \n",
       "       V5                V6                V7                V8         \n",
       " Min.   :-2.3826   Min.   :-1.6025   Min.   :-1.7114   Min.   :-1.0013  \n",
       " 1st Qu.:-0.6667   1st Qu.:-0.8799   1st Qu.:-0.7367   1st Qu.:-0.4567  \n",
       " Median :-0.1062   Median :-0.1498   Median :-0.1773   Median :-0.2362  \n",
       " Mean   : 0.0000   Mean   : 0.0000   Mean   : 0.0000   Mean   : 0.0000  \n",
       " 3rd Qu.: 0.5596   3rd Qu.: 0.6702   3rd Qu.: 0.4336   3rd Qu.: 0.1018  \n",
       " Max.   : 3.5677   Max.   : 2.4982   Max.   : 3.7836   Max.   :13.0655  \n",
       "       V9               V10                V11                V12          \n",
       " Min.   :-2.1495   Min.   :-1.78316   Min.   :-2.88420   Min.   :-3.01005  \n",
       " 1st Qu.:-0.6971   1st Qu.:-0.74794   1st Qu.:-0.65940   1st Qu.:-0.72366  \n",
       " Median :-0.2277   Median :-0.05665   Median : 0.02626   Median :-0.03814  \n",
       " Mean   : 0.0000   Mean   : 0.00000   Mean   : 0.00000   Mean   : 0.00000  \n",
       " 3rd Qu.: 0.5293   3rd Qu.: 0.54793   3rd Qu.: 0.74568   3rd Qu.: 0.65665  \n",
       " Max.   : 4.8891   Max.   : 3.61232   Max.   : 2.34807   Max.   : 2.41408  \n",
       "      V13               V14               V15               V16          \n",
       " Min.   :-2.2517   Min.   :-1.9564   Min.   :-2.1147   Min.   :-1.87489  \n",
       " 1st Qu.:-0.7744   1st Qu.:-0.7634   1st Qu.:-0.6781   1st Qu.:-0.87778  \n",
       " Median : 0.1027   Median :-0.2061   Median :-0.2119   Median : 0.01438  \n",
       " Mean   : 0.0000   Mean   : 0.0000   Mean   : 0.0000   Mean   : 0.00000  \n",
       " 3rd Qu.: 0.7058   3rd Qu.: 0.6304   3rd Qu.: 0.3962   3rd Qu.: 0.78408  \n",
       " Max.   : 3.1778   Max.   : 3.2229   Max.   : 5.1818   Max.   : 1.76370  \n",
       "      V17               V18               V19               V20         \n",
       " Min.   :-1.6250   Min.   :-2.5128   Min.   :-2.8003   Min.   :-1.5691  \n",
       " 1st Qu.:-0.8898   1st Qu.: 0.3975   1st Qu.:-0.7987   1st Qu.:-0.8741  \n",
       " Median :-0.1546   Median : 0.3975   Median :-0.7987   Median :-0.1791  \n",
       " Mean   : 0.0000   Mean   : 0.0000   Mean   : 0.0000   Mean   : 0.0000  \n",
       " 3rd Qu.: 1.3159   3rd Qu.: 0.3975   3rd Qu.: 1.2028   3rd Qu.: 1.0371  \n",
       " Max.   : 2.0511   Max.   : 0.3975   Max.   : 1.2028   Max.   : 1.2109  \n",
       "      V21         \n",
       " Min.   :-0.2261  \n",
       " 1st Qu.:-0.2261  \n",
       " Median :-0.2261  \n",
       " Mean   : 0.0000  \n",
       " 3rd Qu.:-0.2261  \n",
       " Max.   : 4.4174  "
      ]
     },
     "metadata": {},
     "output_type": "display_data"
    }
   ],
   "source": [
    "m <- colMeans(training)\n",
    "s <- apply(training, 2, sd)\n",
    "training <- scale(training, center = m, scale = s)\n",
    "test <- scale(test, center = m, scale = s)\n",
    "summary(training)"
   ]
  },
  {
   "cell_type": "markdown",
   "id": "077d91eb",
   "metadata": {},
   "source": [
    "**Final Submission**"
   ]
  },
  {
   "cell_type": "code",
   "execution_count": 9,
   "id": "afa319ba",
   "metadata": {},
   "outputs": [
    {
     "name": "stdout",
     "output_type": "stream",
     "text": [
      "[1] \"The test R^2 value was:  0.71472931744183\"\n"
     ]
    }
   ],
   "source": [
    "final_model <- load_model_tf(filepath = here(\"model_out\"))\n",
    "test_predictions = predict(final_model, test)\n",
    "print(paste(\"The test R^2 value was: \", cor(testtarget, test_predictions) ^ 2))"
   ]
  }
 ],
 "metadata": {
  "celltoolbar": "Raw Cell Format",
  "kernelspec": {
   "display_name": "R",
   "language": "R",
   "name": "ir"
  },
  "language_info": {
   "codemirror_mode": "r",
   "file_extension": ".r",
   "mimetype": "text/x-r-source",
   "name": "R",
   "pygments_lexer": "r",
   "version": "4.3.0"
  }
 },
 "nbformat": 4,
 "nbformat_minor": 5
}
